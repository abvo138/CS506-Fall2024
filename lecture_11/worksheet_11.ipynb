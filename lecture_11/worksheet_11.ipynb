{
 "cells": [
  {
   "attachments": {},
   "cell_type": "markdown",
   "metadata": {},
   "source": [
    "# Worksheet\n",
    "\n",
    "[FORM](https://forms.gle/VsMXb6bE83RP95R37)"
   ]
  },
  {
   "cell_type": "markdown",
   "metadata": {},
   "source": [
    "### Model Evaluation\n",
    "\n",
    "Write a function to generate the confusion matrix for a list of actual classes and a list of predicted classes"
   ]
  },
  {
   "cell_type": "code",
   "execution_count": 4,
   "metadata": {},
   "outputs": [
    {
     "name": "stdout",
     "output_type": "stream",
     "text": [
      "[[2 1]\n",
      " [3 4]]\n"
     ]
    }
   ],
   "source": [
    "import numpy as np\n",
    "\n",
    "actual_class = [\"Yes\", \"No\", \"No\", \"Yes\", \"No\", \"No\", \"Yes\", \"No\", \"No\", \"No\"]\n",
    "predicted_class = [\"Yes\", \"No\", \"Yes\", \"No\", \"No\", \"No\", \"Yes\", \"Yes\", \"Yes\", \"No\"]\n",
    "\n",
    "def confusion_matrix(actual, predicted):\n",
    "    \"\"\"\n",
    "    Computes the confusion matrix as a numpy matrix. For convention, the\n",
    "    vertical axis represent actual while the horizontal axis represent predicted.\n",
    "    \"\"\"\n",
    "\n",
    "    cm = np.zeros((2, 2))\n",
    "\n",
    "    ############################ start of your code ############################\n",
    "    tp = 0\n",
    "    fn = 0\n",
    "    fp = 0\n",
    "    tn = 0\n",
    "    for i in range(len(actual)):\n",
    "        if actual[i] == predicted[i] == \"Yes\":\n",
    "            tp = tp + 1\n",
    "        elif actual[i] == predicted[i] == \"No\":\n",
    "            tn = tn + 1\n",
    "        elif (actual[i] != predicted[i] and predicted[i] == \"Yes\"):\n",
    "            fp = fp + 1\n",
    "        else:\n",
    "            fn = fn + 1\n",
    "    \n",
    "    cm = np.full((2,2),([tp,fn],[fp,tn]))\n",
    "    ############################# e